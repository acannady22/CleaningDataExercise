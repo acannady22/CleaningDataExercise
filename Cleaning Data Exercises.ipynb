{
 "cells": [
  {
   "cell_type": "markdown",
   "id": "1c5ab710",
   "metadata": {},
   "source": [
    "# Cleaning Data Exercises\n",
    "\n",
    "For the exercises, you will be cleaning data in your chosen data set. [Towards Data Science](https://towardsdatascience.com/data-cleaning-in-python-the-ultimate-guide-2020-c63b88bf0a0d) outlines the steps we should take to clean data using a different data set from Kaggle. While you should use this article as a reference, make sure not to copy paste as the two data sets are very different!\n",
    "\n",
    "To start cleaning data, we first need to create a dataframe from the CSV and print out any relevant info to make sure our dataframe is ready to go."
   ]
  },
  {
   "cell_type": "code",
   "execution_count": 5,
   "id": "da3513e0",
   "metadata": {},
   "outputs": [],
   "source": [
    "# Import pandas and any other libraries you need here. HINT: Check out the article to see what they imported to get started!\n",
    "import pandas as pd\n",
    "import numpy as np\n",
    "import matplotlib\n",
    "import matplotlib.pyplot as plt\n",
    "import datetime\n",
    "from collections import Counter\n",
    "import seaborn as sns\n",
    "\n",
    "# Create a new dataframe from your CSV\n",
    "df = pd.read_csv('/Users/allisoncannady/Downloads/Rat_Sightings.csv')"
   ]
  },
  {
   "cell_type": "code",
   "execution_count": 2,
   "id": "045387eb",
   "metadata": {},
   "outputs": [
    {
     "name": "stdout",
     "output_type": "stream",
     "text": [
      "<class 'pandas.core.frame.DataFrame'>\n",
      "RangeIndex: 101914 entries, 0 to 101913\n",
      "Data columns (total 52 columns):\n",
      " #   Column                          Non-Null Count   Dtype  \n",
      "---  ------                          --------------   -----  \n",
      " 0   Unique Key                      101914 non-null  int64  \n",
      " 1   Created Date                    101914 non-null  object \n",
      " 2   Closed Date                     90983 non-null   object \n",
      " 3   Agency                          101914 non-null  object \n",
      " 4   Agency Name                     101914 non-null  object \n",
      " 5   Complaint Type                  101914 non-null  object \n",
      " 6   Descriptor                      101914 non-null  object \n",
      " 7   Location Type                   101908 non-null  object \n",
      " 8   Incident Zip                    101578 non-null  float64\n",
      " 9   Incident Address                92840 non-null   object \n",
      " 10  Street Name                     92839 non-null   object \n",
      " 11  Cross Street 1                  85257 non-null   object \n",
      " 12  Cross Street 2                  85224 non-null   object \n",
      " 13  Intersection Street 1           8925 non-null    object \n",
      " 14  Intersection Street 2           8925 non-null    object \n",
      " 15  Address Type                    101568 non-null  object \n",
      " 16  City                            101572 non-null  object \n",
      " 17  Landmark                        35 non-null      object \n",
      " 18  Facility Type                   0 non-null       float64\n",
      " 19  Status                          101914 non-null  object \n",
      " 20  Due Date                        101797 non-null  object \n",
      " 21  Resolution Action Updated Date  101911 non-null  object \n",
      " 22  Community Board                 101914 non-null  object \n",
      " 23  Borough                         101914 non-null  object \n",
      " 24  X Coordinate (State Plane)      101208 non-null  float64\n",
      " 25  Y Coordinate (State Plane)      101208 non-null  float64\n",
      " 26  Park Facility Name              101914 non-null  object \n",
      " 27  Park Borough                    101914 non-null  object \n",
      " 28  School Name                     101914 non-null  object \n",
      " 29  School Number                   101914 non-null  object \n",
      " 30  School Region                   101914 non-null  object \n",
      " 31  School Code                     101914 non-null  object \n",
      " 32  School Phone Number             101914 non-null  object \n",
      " 33  School Address                  101914 non-null  object \n",
      " 34  School City                     101914 non-null  object \n",
      " 35  School State                    101914 non-null  object \n",
      " 36  School Zip                      101914 non-null  object \n",
      " 37  School Not Found                100997 non-null  object \n",
      " 38  School or Citywide Complaint    0 non-null       float64\n",
      " 39  Vehicle Type                    0 non-null       float64\n",
      " 40  Taxi Company Borough            0 non-null       float64\n",
      " 41  Taxi Pick Up Location           0 non-null       float64\n",
      " 42  Bridge Highway Name             0 non-null       float64\n",
      " 43  Bridge Highway Direction        0 non-null       float64\n",
      " 44  Road Ramp                       0 non-null       float64\n",
      " 45  Bridge Highway Segment          0 non-null       float64\n",
      " 46  Garage Lot Name                 0 non-null       float64\n",
      " 47  Ferry Direction                 0 non-null       float64\n",
      " 48  Ferry Terminal Name             0 non-null       float64\n",
      " 49  Latitude                        101208 non-null  float64\n",
      " 50  Longitude                       101208 non-null  float64\n",
      " 51  Location                        101208 non-null  object \n",
      "dtypes: float64(17), int64(1), object(34)\n",
      "memory usage: 40.4+ MB\n"
     ]
    }
   ],
   "source": [
    "# Print out any information you need to understand your dataframe\n",
    "df.info()"
   ]
  },
  {
   "cell_type": "code",
   "execution_count": 3,
   "id": "cbc6ce59",
   "metadata": {},
   "outputs": [
    {
     "data": {
      "text/html": [
       "<div>\n",
       "<style scoped>\n",
       "    .dataframe tbody tr th:only-of-type {\n",
       "        vertical-align: middle;\n",
       "    }\n",
       "\n",
       "    .dataframe tbody tr th {\n",
       "        vertical-align: top;\n",
       "    }\n",
       "\n",
       "    .dataframe thead th {\n",
       "        text-align: right;\n",
       "    }\n",
       "</style>\n",
       "<table border=\"1\" class=\"dataframe\">\n",
       "  <thead>\n",
       "    <tr style=\"text-align: right;\">\n",
       "      <th></th>\n",
       "      <th>Unique Key</th>\n",
       "      <th>Created Date</th>\n",
       "      <th>Closed Date</th>\n",
       "      <th>Agency</th>\n",
       "      <th>Agency Name</th>\n",
       "      <th>Complaint Type</th>\n",
       "      <th>Descriptor</th>\n",
       "      <th>Location Type</th>\n",
       "      <th>Incident Zip</th>\n",
       "      <th>Incident Address</th>\n",
       "      <th>...</th>\n",
       "      <th>Bridge Highway Name</th>\n",
       "      <th>Bridge Highway Direction</th>\n",
       "      <th>Road Ramp</th>\n",
       "      <th>Bridge Highway Segment</th>\n",
       "      <th>Garage Lot Name</th>\n",
       "      <th>Ferry Direction</th>\n",
       "      <th>Ferry Terminal Name</th>\n",
       "      <th>Latitude</th>\n",
       "      <th>Longitude</th>\n",
       "      <th>Location</th>\n",
       "    </tr>\n",
       "  </thead>\n",
       "  <tbody>\n",
       "    <tr>\n",
       "      <th>0</th>\n",
       "      <td>31464015</td>\n",
       "      <td>09/04/2015 12:00:00 AM</td>\n",
       "      <td>09/18/2015 12:00:00 AM</td>\n",
       "      <td>DOHMH</td>\n",
       "      <td>Department of Health and Mental Hygiene</td>\n",
       "      <td>Rodent</td>\n",
       "      <td>Rat Sighting</td>\n",
       "      <td>3+ Family Mixed Use Building</td>\n",
       "      <td>10006.0</td>\n",
       "      <td>NaN</td>\n",
       "      <td>...</td>\n",
       "      <td>NaN</td>\n",
       "      <td>NaN</td>\n",
       "      <td>NaN</td>\n",
       "      <td>NaN</td>\n",
       "      <td>NaN</td>\n",
       "      <td>NaN</td>\n",
       "      <td>NaN</td>\n",
       "      <td>40.707772</td>\n",
       "      <td>-74.012963</td>\n",
       "      <td>(40.70777155363643, -74.01296309970473)</td>\n",
       "    </tr>\n",
       "    <tr>\n",
       "      <th>1</th>\n",
       "      <td>31464024</td>\n",
       "      <td>09/04/2015 12:00:00 AM</td>\n",
       "      <td>10/28/2015 12:00:00 AM</td>\n",
       "      <td>DOHMH</td>\n",
       "      <td>Department of Health and Mental Hygiene</td>\n",
       "      <td>Rodent</td>\n",
       "      <td>Rat Sighting</td>\n",
       "      <td>Commercial Building</td>\n",
       "      <td>10306.0</td>\n",
       "      <td>2270 HYLAN BOULEVARD</td>\n",
       "      <td>...</td>\n",
       "      <td>NaN</td>\n",
       "      <td>NaN</td>\n",
       "      <td>NaN</td>\n",
       "      <td>NaN</td>\n",
       "      <td>NaN</td>\n",
       "      <td>NaN</td>\n",
       "      <td>NaN</td>\n",
       "      <td>40.575209</td>\n",
       "      <td>-74.104547</td>\n",
       "      <td>(40.575209242947444, -74.1045465185469)</td>\n",
       "    </tr>\n",
       "    <tr>\n",
       "      <th>2</th>\n",
       "      <td>31464025</td>\n",
       "      <td>09/04/2015 12:00:00 AM</td>\n",
       "      <td>NaN</td>\n",
       "      <td>DOHMH</td>\n",
       "      <td>Department of Health and Mental Hygiene</td>\n",
       "      <td>Rodent</td>\n",
       "      <td>Rat Sighting</td>\n",
       "      <td>1-2 Family Dwelling</td>\n",
       "      <td>10310.0</td>\n",
       "      <td>758 POST AVENUE</td>\n",
       "      <td>...</td>\n",
       "      <td>NaN</td>\n",
       "      <td>NaN</td>\n",
       "      <td>NaN</td>\n",
       "      <td>NaN</td>\n",
       "      <td>NaN</td>\n",
       "      <td>NaN</td>\n",
       "      <td>NaN</td>\n",
       "      <td>40.631236</td>\n",
       "      <td>-74.126878</td>\n",
       "      <td>(40.63123555151668, -74.12687759748677)</td>\n",
       "    </tr>\n",
       "    <tr>\n",
       "      <th>3</th>\n",
       "      <td>31464026</td>\n",
       "      <td>09/04/2015 12:00:00 AM</td>\n",
       "      <td>09/14/2015 12:00:00 AM</td>\n",
       "      <td>DOHMH</td>\n",
       "      <td>Department of Health and Mental Hygiene</td>\n",
       "      <td>Rodent</td>\n",
       "      <td>Rat Sighting</td>\n",
       "      <td>3+ Family Apt. Building</td>\n",
       "      <td>11206.0</td>\n",
       "      <td>198 SCHOLES STREET</td>\n",
       "      <td>...</td>\n",
       "      <td>NaN</td>\n",
       "      <td>NaN</td>\n",
       "      <td>NaN</td>\n",
       "      <td>NaN</td>\n",
       "      <td>NaN</td>\n",
       "      <td>NaN</td>\n",
       "      <td>NaN</td>\n",
       "      <td>40.708987</td>\n",
       "      <td>-73.941207</td>\n",
       "      <td>(40.70898692345805, -73.94120690238431)</td>\n",
       "    </tr>\n",
       "    <tr>\n",
       "      <th>4</th>\n",
       "      <td>31464027</td>\n",
       "      <td>09/04/2015 12:00:00 AM</td>\n",
       "      <td>09/22/2015 12:00:00 AM</td>\n",
       "      <td>DOHMH</td>\n",
       "      <td>Department of Health and Mental Hygiene</td>\n",
       "      <td>Rodent</td>\n",
       "      <td>Rat Sighting</td>\n",
       "      <td>3+ Family Mixed Use Building</td>\n",
       "      <td>10462.0</td>\n",
       "      <td>2138 WALLACE AVENUE</td>\n",
       "      <td>...</td>\n",
       "      <td>NaN</td>\n",
       "      <td>NaN</td>\n",
       "      <td>NaN</td>\n",
       "      <td>NaN</td>\n",
       "      <td>NaN</td>\n",
       "      <td>NaN</td>\n",
       "      <td>NaN</td>\n",
       "      <td>40.854130</td>\n",
       "      <td>-73.864813</td>\n",
       "      <td>(40.85413014360452, -73.86481331044513)</td>\n",
       "    </tr>\n",
       "  </tbody>\n",
       "</table>\n",
       "<p>5 rows × 52 columns</p>\n",
       "</div>"
      ],
      "text/plain": [
       "   Unique Key            Created Date             Closed Date Agency  \\\n",
       "0    31464015  09/04/2015 12:00:00 AM  09/18/2015 12:00:00 AM  DOHMH   \n",
       "1    31464024  09/04/2015 12:00:00 AM  10/28/2015 12:00:00 AM  DOHMH   \n",
       "2    31464025  09/04/2015 12:00:00 AM                     NaN  DOHMH   \n",
       "3    31464026  09/04/2015 12:00:00 AM  09/14/2015 12:00:00 AM  DOHMH   \n",
       "4    31464027  09/04/2015 12:00:00 AM  09/22/2015 12:00:00 AM  DOHMH   \n",
       "\n",
       "                               Agency Name Complaint Type    Descriptor  \\\n",
       "0  Department of Health and Mental Hygiene         Rodent  Rat Sighting   \n",
       "1  Department of Health and Mental Hygiene         Rodent  Rat Sighting   \n",
       "2  Department of Health and Mental Hygiene         Rodent  Rat Sighting   \n",
       "3  Department of Health and Mental Hygiene         Rodent  Rat Sighting   \n",
       "4  Department of Health and Mental Hygiene         Rodent  Rat Sighting   \n",
       "\n",
       "                  Location Type  Incident Zip      Incident Address  ...  \\\n",
       "0  3+ Family Mixed Use Building       10006.0                   NaN  ...   \n",
       "1           Commercial Building       10306.0  2270 HYLAN BOULEVARD  ...   \n",
       "2           1-2 Family Dwelling       10310.0       758 POST AVENUE  ...   \n",
       "3       3+ Family Apt. Building       11206.0    198 SCHOLES STREET  ...   \n",
       "4  3+ Family Mixed Use Building       10462.0   2138 WALLACE AVENUE  ...   \n",
       "\n",
       "  Bridge Highway Name Bridge Highway Direction Road Ramp  \\\n",
       "0                 NaN                      NaN       NaN   \n",
       "1                 NaN                      NaN       NaN   \n",
       "2                 NaN                      NaN       NaN   \n",
       "3                 NaN                      NaN       NaN   \n",
       "4                 NaN                      NaN       NaN   \n",
       "\n",
       "  Bridge Highway Segment Garage Lot Name Ferry Direction Ferry Terminal Name  \\\n",
       "0                    NaN             NaN             NaN                 NaN   \n",
       "1                    NaN             NaN             NaN                 NaN   \n",
       "2                    NaN             NaN             NaN                 NaN   \n",
       "3                    NaN             NaN             NaN                 NaN   \n",
       "4                    NaN             NaN             NaN                 NaN   \n",
       "\n",
       "    Latitude  Longitude                                 Location  \n",
       "0  40.707772 -74.012963  (40.70777155363643, -74.01296309970473)  \n",
       "1  40.575209 -74.104547  (40.575209242947444, -74.1045465185469)  \n",
       "2  40.631236 -74.126878  (40.63123555151668, -74.12687759748677)  \n",
       "3  40.708987 -73.941207  (40.70898692345805, -73.94120690238431)  \n",
       "4  40.854130 -73.864813  (40.85413014360452, -73.86481331044513)  \n",
       "\n",
       "[5 rows x 52 columns]"
      ]
     },
     "execution_count": 3,
     "metadata": {},
     "output_type": "execute_result"
    }
   ],
   "source": [
    "df.head()"
   ]
  },
  {
   "cell_type": "markdown",
   "id": "81717993",
   "metadata": {},
   "source": [
    "Now you have a dataframe set up, you are ready to dive in and start cleaning!"
   ]
  },
  {
   "cell_type": "markdown",
   "id": "303aee35",
   "metadata": {},
   "source": [
    "## Missing Data\n",
    "\n",
    "In the Towards Data Science article, they list 3 techniques for detecting any missing data frame. Try all three before deciding on a way to solve any missing data issues."
   ]
  },
  {
   "cell_type": "code",
   "execution_count": 6,
   "id": "68fd548c",
   "metadata": {},
   "outputs": [
    {
     "data": {
      "text/plain": [
       "<AxesSubplot:>"
      ]
     },
     "execution_count": 6,
     "metadata": {},
     "output_type": "execute_result"
    },
    {
     "data": {
      "image/png": "[encoded data removed]",
      "text/plain": [
       "<Figure size 432x288 with 2 Axes>"
      ]
     },
     "metadata": {
      "needs_background": "light"
     },
     "output_type": "display_data"
    }
   ],
   "source": [
    "# Plot a heatmap of any missing data\n",
    "cols = df.columns[:30] # first 30 columns\n",
    "colours = ['#000099', '#ffff00'] # specify the colours - yellow is missing. blue is not missing.\n",
    "sns.heatmap(df[cols].isnull(), cmap=sns.color_palette(colours))"
   ]
  },
  {
   "cell_type": "code",
   "execution_count": 7,
   "id": "0ae37b5d",
   "metadata": {},
   "outputs": [
    {
     "name": "stdout",
     "output_type": "stream",
     "text": [
      "Unique Key - 0%\n",
      "Created Date - 0%\n",
      "Closed Date - 11%\n",
      "Agency - 0%\n",
      "Agency Name - 0%\n",
      "Complaint Type - 0%\n",
      "Descriptor - 0%\n",
      "Location Type - 0%\n",
      "Incident Zip - 0%\n",
      "Incident Address - 9%\n",
      "Street Name - 9%\n",
      "Cross Street 1 - 16%\n",
      "Cross Street 2 - 16%\n",
      "Intersection Street 1 - 91%\n",
      "Intersection Street 2 - 91%\n",
      "Address Type - 0%\n",
      "City - 0%\n",
      "Landmark - 100%\n",
      "Facility Type - 100%\n",
      "Status - 0%\n",
      "Due Date - 0%\n",
      "Resolution Action Updated Date - 0%\n",
      "Community Board - 0%\n",
      "Borough - 0%\n",
      "X Coordinate (State Plane) - 1%\n",
      "Y Coordinate (State Plane) - 1%\n",
      "Park Facility Name - 0%\n",
      "Park Borough - 0%\n",
      "School Name - 0%\n",
      "School Number - 0%\n",
      "School Region - 0%\n",
      "School Code - 0%\n",
      "School Phone Number - 0%\n",
      "School Address - 0%\n",
      "School City - 0%\n",
      "School State - 0%\n",
      "School Zip - 0%\n",
      "School Not Found - 1%\n",
      "School or Citywide Complaint - 100%\n",
      "Vehicle Type - 100%\n",
      "Taxi Company Borough - 100%\n",
      "Taxi Pick Up Location - 100%\n",
      "Bridge Highway Name - 100%\n",
      "Bridge Highway Direction - 100%\n",
      "Road Ramp - 100%\n",
      "Bridge Highway Segment - 100%\n",
      "Garage Lot Name - 100%\n",
      "Ferry Direction - 100%\n",
      "Ferry Terminal Name - 100%\n",
      "Latitude - 1%\n",
      "Longitude - 1%\n",
      "Location - 1%\n"
     ]
    }
   ],
   "source": [
    "# Try out a missing data percentage list! \n",
    "for col in df.columns:\n",
    "    pct_missing = np.mean(df[col].isnull())\n",
    "    print('{} - {}%'.format(col, round(pct_missing*100)))"
   ]
  },
  {
   "cell_type": "code",
   "execution_count": 8,
   "id": "51c62f02",
   "metadata": {},
   "outputs": [
    {
     "name": "stdout",
     "output_type": "stream",
     "text": [
      "created missing indicator for: Closed Date\n",
      "created missing indicator for: Location Type\n",
      "created missing indicator for: Incident Zip\n",
      "created missing indicator for: Incident Address\n",
      "created missing indicator for: Street Name\n",
      "created missing indicator for: Cross Street 1\n",
      "created missing indicator for: Cross Street 2\n",
      "created missing indicator for: Intersection Street 1\n",
      "created missing indicator for: Intersection Street 2\n",
      "created missing indicator for: Address Type\n",
      "created missing indicator for: City\n",
      "created missing indicator for: Landmark\n",
      "created missing indicator for: Facility Type\n",
      "created missing indicator for: Due Date\n",
      "created missing indicator for: Resolution Action Updated Date\n",
      "created missing indicator for: X Coordinate (State Plane)\n",
      "created missing indicator for: Y Coordinate (State Plane)\n",
      "created missing indicator for: School Not Found\n",
      "created missing indicator for: School or Citywide Complaint\n",
      "created missing indicator for: Vehicle Type\n",
      "created missing indicator for: Taxi Company Borough\n",
      "created missing indicator for: Taxi Pick Up Location\n",
      "created missing indicator for: Bridge Highway Name\n",
      "created missing indicator for: Bridge Highway Direction\n",
      "created missing indicator for: Road Ramp\n",
      "created missing indicator for: Bridge Highway Segment\n",
      "created missing indicator for: Garage Lot Name\n",
      "created missing indicator for: Ferry Direction\n",
      "created missing indicator for: Ferry Terminal Name\n",
      "created missing indicator for: Latitude\n",
      "created missing indicator for: Longitude\n",
      "created missing indicator for: Location\n"
     ]
    },
    {
     "data": {
      "text/plain": [
       "<AxesSubplot:xlabel='index'>"
      ]
     },
     "execution_count": 8,
     "metadata": {},
     "output_type": "execute_result"
    },
    {
     "data": {
      "image/png": "[encoded data removed]",
      "text/plain": [
       "<Figure size 432x288 with 1 Axes>"
      ]
     },
     "metadata": {
      "needs_background": "light"
     },
     "output_type": "display_data"
    }
   ],
   "source": [
    "# Plot a missing data histogram\n",
    "# first create missing indicator for features with missing data\n",
    "for col in df.columns:\n",
    "    missing = df[col].isnull()\n",
    "    num_missing = np.sum(missing)\n",
    "    \n",
    "    if num_missing > 0:  \n",
    "        print('created missing indicator for: {}'.format(col))\n",
    "        df['{}_ismissing'.format(col)] = missing\n",
    "\n",
    "# then based on the indicator, plot the histogram of missing values\n",
    "ismissing_cols = [col for col in df.columns if 'ismissing' in col]\n",
    "df['num_missing'] = df[ismissing_cols].sum(axis=1)\n",
    "\n",
    "df['num_missing'].value_counts().reset_index().sort_values(by='index').plot.bar(x='index', y='num_missing')\n",
    "  "
   ]
  },
  {
   "cell_type": "markdown",
   "id": "5e791fbe",
   "metadata": {},
   "source": [
    "Now that you have tried all 3 techniques for detecting missing data, did you find any? Reading through the article, which solution do you think will help you clean the data set and handle the missing data? Try out your solution below!"
   ]
  },
  {
   "cell_type": "code",
   "execution_count": 10,
   "id": "d4f517c6",
   "metadata": {},
   "outputs": [
    {
     "name": "stdout",
     "output_type": "stream",
     "text": [
      "imputing missing values for: Incident Zip\n",
      "imputing missing values for: Facility Type\n",
      "imputing missing values for: X Coordinate (State Plane)\n",
      "imputing missing values for: Y Coordinate (State Plane)\n",
      "imputing missing values for: School or Citywide Complaint\n",
      "imputing missing values for: Vehicle Type\n",
      "imputing missing values for: Taxi Company Borough\n",
      "imputing missing values for: Taxi Pick Up Location\n",
      "imputing missing values for: Bridge Highway Name\n",
      "imputing missing values for: Bridge Highway Direction\n",
      "imputing missing values for: Road Ramp\n",
      "imputing missing values for: Bridge Highway Segment\n",
      "imputing missing values for: Garage Lot Name\n",
      "imputing missing values for: Ferry Direction\n",
      "imputing missing values for: Ferry Terminal Name\n",
      "imputing missing values for: Latitude\n",
      "imputing missing values for: Longitude\n"
     ]
    }
   ],
   "source": [
    "df_numeric = df.select_dtypes(include=[np.number])\n",
    "numeric_cols = df_numeric.columns.values\n",
    "\n",
    "for col in numeric_cols:\n",
    "    missing = df[col].isnull()\n",
    "    num_missing = np.sum(missing)\n",
    "    \n",
    "    if num_missing > 0:  # only do the imputation for the columns that have missing values.\n",
    "        print('imputing missing values for: {}'.format(col))\n",
    "        df['{}_ismissing'.format(col)] = missing\n",
    "        med = df[col].median()\n",
    "        df[col] = df[col].fillna(med)"
   ]
  },
  {
   "cell_type": "code",
   "execution_count": 11,
   "id": "b7f18d61",
   "metadata": {},
   "outputs": [
    {
     "name": "stdout",
     "output_type": "stream",
     "text": [
      "imputing missing values for: Closed Date\n",
      "imputing missing values for: Location Type\n",
      "imputing missing values for: Incident Address\n",
      "imputing missing values for: Street Name\n",
      "imputing missing values for: Cross Street 1\n",
      "imputing missing values for: Cross Street 2\n",
      "imputing missing values for: Intersection Street 1\n",
      "imputing missing values for: Intersection Street 2\n",
      "imputing missing values for: Address Type\n",
      "imputing missing values for: City\n",
      "imputing missing values for: Landmark\n",
      "imputing missing values for: Due Date\n",
      "imputing missing values for: Resolution Action Updated Date\n",
      "imputing missing values for: School Not Found\n",
      "imputing missing values for: Location\n"
     ]
    }
   ],
   "source": [
    "df_non_numeric = df.select_dtypes(exclude=[np.number])\n",
    "non_numeric_cols = df_non_numeric.columns.values\n",
    "\n",
    "for col in non_numeric_cols:\n",
    "    missing = df[col].isnull()\n",
    "    num_missing = np.sum(missing)\n",
    "    \n",
    "    if num_missing > 0:  # only do the imputation for the columns that have missing values.\n",
    "        print('imputing missing values for: {}'.format(col))\n",
    "        df['{}_ismissing'.format(col)] = missing\n",
    "        \n",
    "        top = df[col].describe()['top'] # impute with the most frequent value.\n",
    "        df[col] = df[col].fillna(top)"
   ]
  },
  {
   "cell_type": "code",
   "execution_count": null,
   "id": "cf55a85a",
   "metadata": {},
   "outputs": [],
   "source": []
  },
  {
   "cell_type": "markdown",
   "id": "be2121df",
   "metadata": {},
   "source": [
    "## Irregular Data\n",
    "\n",
    "With missing data out of the way, turn your attention to any outliers. Just as we did for missing data, we first need to detect the outliers. The article outlines the top techniques for finding outliers in a dataset."
   ]
  },
  {
   "cell_type": "code",
   "execution_count": 14,
   "id": "3a4f2cff",
   "metadata": {},
   "outputs": [
    {
     "data": {
      "text/plain": [
       "<AxesSubplot:>"
      ]
     },
     "execution_count": 14,
     "metadata": {},
     "output_type": "execute_result"
    },
    {
     "data": {
      "image/png": "[encoded data removed]",
      "text/plain": [
       "<Figure size 432x288 with 1 Axes>"
      ]
     },
     "metadata": {
      "needs_background": "light"
     },
     "output_type": "display_data"
    }
   ],
   "source": [
    "# Plot a histogram to see if there are any outliers.\n",
    "df['Unique Key'].hist(bins=100)"
   ]
  },
  {
   "cell_type": "code",
   "execution_count": 15,
   "id": "84ba049b",
   "metadata": {},
   "outputs": [
    {
     "data": {
      "text/plain": [
       "<AxesSubplot:>"
      ]
     },
     "execution_count": 15,
     "metadata": {},
     "output_type": "execute_result"
    },
    {
     "data": {
      "image/png": "[encoded data removed]",
      "text/plain": [
       "<Figure size 432x288 with 1 Axes>"
      ]
     },
     "metadata": {
      "needs_background": "light"
     },
     "output_type": "display_data"
    }
   ],
   "source": [
    "#boxplot\n",
    "df.boxplot(column=['Unique Key'])"
   ]
  },
  {
   "cell_type": "code",
   "execution_count": 17,
   "id": "ae9008bb",
   "metadata": {},
   "outputs": [
    {
     "data": {
      "text/plain": [
       "count    1.019140e+05\n",
       "mean     2.815864e+07\n",
       "std      6.015376e+06\n",
       "min      1.146439e+07\n",
       "25%      2.341452e+07\n",
       "50%      2.883680e+07\n",
       "75%      3.346014e+07\n",
       "max      3.719700e+07\n",
       "Name: Unique Key, dtype: float64"
      ]
     },
     "execution_count": 17,
     "metadata": {},
     "output_type": "execute_result"
    }
   ],
   "source": [
    "# Use the describe() method\n",
    "df['Unique Key'].describe()"
   ]
  },
  {
   "cell_type": "code",
   "execution_count": 19,
   "id": "4af44edf",
   "metadata": {},
   "outputs": [
    {
     "data": {
      "text/plain": [
       "<AxesSubplot:>"
      ]
     },
     "execution_count": 19,
     "metadata": {},
     "output_type": "execute_result"
    },
    {
     "data": {
      "image/png": "[encoded data removed]",
      "text/plain": [
       "<Figure size 432x288 with 1 Axes>"
      ]
     },
     "metadata": {
      "needs_background": "light"
     },
     "output_type": "display_data"
    }
   ],
   "source": [
    "# Plot a bar chart\n",
    "df['Unique Key'].value_counts().plot.bar()"
   ]
  },
  {
   "cell_type": "markdown",
   "id": "da8d6080",
   "metadata": {},
   "source": [
    "Which of the three techniques helped you find any outliers? Now that you have found outliers, what will you do to solve the problem?"
   ]
  },
  {
   "cell_type": "code",
   "execution_count": 10,
   "id": "3ee7d694",
   "metadata": {},
   "outputs": [],
   "source": [
    "# Handle any outliers in your dataframe"
   ]
  },
  {
   "cell_type": "markdown",
   "id": "c802522d",
   "metadata": {},
   "source": [
    "## Unnecessary Data\n",
    "\n",
    "Unnecessary data could be duplicates, irrelevant, or any uninformative data. Dive into each type of unnecessary data to see if there is any in the data set. Make sure to make note of how you would handle each type of unnecessary data."
   ]
  },
  {
   "cell_type": "code",
   "execution_count": 22,
   "id": "8de40f50",
   "metadata": {},
   "outputs": [
    {
     "name": "stdout",
     "output_type": "stream",
     "text": [
      "Agency: 100.00000%\n",
      "DOHMH    101914\n",
      "Name: Agency, dtype: int64\n",
      "\n",
      "Agency Name: 100.00000%\n",
      "Department of Health and Mental Hygiene    101914\n",
      "Name: Agency Name, dtype: int64\n",
      "\n",
      "Complaint Type: 100.00000%\n",
      "Rodent    101914\n",
      "Name: Complaint Type, dtype: int64\n",
      "\n",
      "Descriptor: 100.00000%\n",
      "Rat Sighting    101914\n",
      "Name: Descriptor, dtype: int64\n",
      "\n",
      "Landmark: 99.97154%\n",
      "J F K AIRPORT                      101885\n",
      "GRAND ARMY PLAZA                        3\n",
      "WOODHULL MEDICAL CENTER                 3\n",
      "BARCLAYS CENTER                         2\n",
      "LA GUARDIA AIRPORT                      2\n",
      "METROPOLITAN MUSEUM                     2\n",
      "HUNTER COLLEGE                          2\n",
      "PENNSYLVANIA STATION                    2\n",
      "BRYANT PARK                             1\n",
      "WORLDS FAIR MARINA                      1\n",
      "LEHMAN COLLEGE                          1\n",
      "FERRY TERMINAL                          1\n",
      "BROOKLYN MUSEUM                         1\n",
      "CITY HALL                               1\n",
      "BKLYN BATTERY TUNNEL                    1\n",
      "BKLYN PUBLIC LIBRARY                    1\n",
      "YANKEE STADIUM                          1\n",
      "BKLYN PUBLIC LIBRARY CTR BRANCH         1\n",
      "ELMHURST HOSPITAL                       1\n",
      "MUSEUM OF NATURAL HISTORY               1\n",
      "CENTRAL PARK                            1\n",
      "Name: Landmark, dtype: int64\n",
      "\n",
      "Facility Type: 100.00000%\n",
      "NaN    101914\n",
      "Name: Facility Type, dtype: int64\n",
      "\n",
      "Park Facility Name: 100.00000%\n",
      "Unspecified    101914\n",
      "Name: Park Facility Name, dtype: int64\n",
      "\n",
      "School Name: 100.00000%\n",
      "Unspecified    101914\n",
      "Name: School Name, dtype: int64\n",
      "\n",
      "School Number: 100.00000%\n",
      "Unspecified    101914\n",
      "Name: School Number, dtype: int64\n",
      "\n",
      "School Region: 100.00000%\n",
      "Unspecified    101914\n",
      "Name: School Region, dtype: int64\n",
      "\n",
      "School Code: 100.00000%\n",
      "Unspecified    101914\n",
      "Name: School Code, dtype: int64\n",
      "\n",
      "School Phone Number: 100.00000%\n",
      "Unspecified    101914\n",
      "Name: School Phone Number, dtype: int64\n",
      "\n",
      "School Address: 100.00000%\n",
      "Unspecified    101914\n",
      "Name: School Address, dtype: int64\n",
      "\n",
      "School City: 100.00000%\n",
      "Unspecified    101914\n",
      "Name: School City, dtype: int64\n",
      "\n",
      "School State: 100.00000%\n",
      "Unspecified    101914\n",
      "Name: School State, dtype: int64\n",
      "\n",
      "School Zip: 100.00000%\n",
      "Unspecified    101914\n",
      "Name: School Zip, dtype: int64\n",
      "\n",
      "School Not Found: 100.00000%\n",
      "N    101914\n",
      "Name: School Not Found, dtype: int64\n",
      "\n",
      "School or Citywide Complaint: 100.00000%\n",
      "NaN    101914\n",
      "Name: School or Citywide Complaint, dtype: int64\n",
      "\n",
      "Vehicle Type: 100.00000%\n",
      "NaN    101914\n",
      "Name: Vehicle Type, dtype: int64\n",
      "\n",
      "Taxi Company Borough: 100.00000%\n",
      "NaN    101914\n",
      "Name: Taxi Company Borough, dtype: int64\n",
      "\n",
      "Taxi Pick Up Location: 100.00000%\n",
      "NaN    101914\n",
      "Name: Taxi Pick Up Location, dtype: int64\n",
      "\n",
      "Bridge Highway Name: 100.00000%\n",
      "NaN    101914\n",
      "Name: Bridge Highway Name, dtype: int64\n",
      "\n",
      "Bridge Highway Direction: 100.00000%\n",
      "NaN    101914\n",
      "Name: Bridge Highway Direction, dtype: int64\n",
      "\n",
      "Road Ramp: 100.00000%\n",
      "NaN    101914\n",
      "Name: Road Ramp, dtype: int64\n",
      "\n",
      "Bridge Highway Segment: 100.00000%\n",
      "NaN    101914\n",
      "Name: Bridge Highway Segment, dtype: int64\n",
      "\n",
      "Garage Lot Name: 100.00000%\n",
      "NaN    101914\n",
      "Name: Garage Lot Name, dtype: int64\n",
      "\n",
      "Ferry Direction: 100.00000%\n",
      "NaN    101914\n",
      "Name: Ferry Direction, dtype: int64\n",
      "\n",
      "Ferry Terminal Name: 100.00000%\n",
      "NaN    101914\n",
      "Name: Ferry Terminal Name, dtype: int64\n",
      "\n",
      "Location Type_ismissing: 99.99411%\n",
      "False    101908\n",
      "True          6\n",
      "Name: Location Type_ismissing, dtype: int64\n",
      "\n",
      "Incident Zip_ismissing: 99.67031%\n",
      "False    101578\n",
      "True        336\n",
      "Name: Incident Zip_ismissing, dtype: int64\n",
      "\n",
      "Address Type_ismissing: 99.66050%\n",
      "False    101568\n",
      "True        346\n",
      "Name: Address Type_ismissing, dtype: int64\n",
      "\n",
      "City_ismissing: 99.66442%\n",
      "False    101572\n",
      "True        342\n",
      "Name: City_ismissing, dtype: int64\n",
      "\n",
      "Landmark_ismissing: 99.96566%\n",
      "True     101879\n",
      "False        35\n",
      "Name: Landmark_ismissing, dtype: int64\n",
      "\n",
      "Facility Type_ismissing: 100.00000%\n",
      "True    101914\n",
      "Name: Facility Type_ismissing, dtype: int64\n",
      "\n",
      "Due Date_ismissing: 99.88520%\n",
      "False    101797\n",
      "True        117\n",
      "Name: Due Date_ismissing, dtype: int64\n",
      "\n",
      "Resolution Action Updated Date_ismissing: 99.99706%\n",
      "False    101911\n",
      "True          3\n",
      "Name: Resolution Action Updated Date_ismissing, dtype: int64\n",
      "\n",
      "X Coordinate (State Plane)_ismissing: 99.30726%\n",
      "False    101208\n",
      "True        706\n",
      "Name: X Coordinate (State Plane)_ismissing, dtype: int64\n",
      "\n",
      "Y Coordinate (State Plane)_ismissing: 99.30726%\n",
      "False    101208\n",
      "True        706\n",
      "Name: Y Coordinate (State Plane)_ismissing, dtype: int64\n",
      "\n",
      "School Not Found_ismissing: 99.10022%\n",
      "False    100997\n",
      "True        917\n",
      "Name: School Not Found_ismissing, dtype: int64\n",
      "\n",
      "School or Citywide Complaint_ismissing: 100.00000%\n",
      "True    101914\n",
      "Name: School or Citywide Complaint_ismissing, dtype: int64\n",
      "\n",
      "Vehicle Type_ismissing: 100.00000%\n",
      "True    101914\n",
      "Name: Vehicle Type_ismissing, dtype: int64\n",
      "\n",
      "Taxi Company Borough_ismissing: 100.00000%\n",
      "True    101914\n",
      "Name: Taxi Company Borough_ismissing, dtype: int64\n",
      "\n",
      "Taxi Pick Up Location_ismissing: 100.00000%\n",
      "True    101914\n",
      "Name: Taxi Pick Up Location_ismissing, dtype: int64\n",
      "\n",
      "Bridge Highway Name_ismissing: 100.00000%\n",
      "True    101914\n",
      "Name: Bridge Highway Name_ismissing, dtype: int64\n",
      "\n",
      "Bridge Highway Direction_ismissing: 100.00000%\n",
      "True    101914\n",
      "Name: Bridge Highway Direction_ismissing, dtype: int64\n",
      "\n",
      "Road Ramp_ismissing: 100.00000%\n",
      "True    101914\n",
      "Name: Road Ramp_ismissing, dtype: int64\n",
      "\n",
      "Bridge Highway Segment_ismissing: 100.00000%\n",
      "True    101914\n",
      "Name: Bridge Highway Segment_ismissing, dtype: int64\n",
      "\n",
      "Garage Lot Name_ismissing: 100.00000%\n",
      "True    101914\n",
      "Name: Garage Lot Name_ismissing, dtype: int64\n",
      "\n",
      "Ferry Direction_ismissing: 100.00000%\n",
      "True    101914\n",
      "Name: Ferry Direction_ismissing, dtype: int64\n",
      "\n",
      "Ferry Terminal Name_ismissing: 100.00000%\n",
      "True    101914\n",
      "Name: Ferry Terminal Name_ismissing, dtype: int64\n",
      "\n",
      "Latitude_ismissing: 99.30726%\n",
      "False    101208\n",
      "True        706\n",
      "Name: Latitude_ismissing, dtype: int64\n",
      "\n",
      "Longitude_ismissing: 99.30726%\n",
      "False    101208\n",
      "True        706\n",
      "Name: Longitude_ismissing, dtype: int64\n",
      "\n",
      "Location_ismissing: 99.30726%\n",
      "False    101208\n",
      "True        706\n",
      "Name: Location_ismissing, dtype: int64\n",
      "\n"
     ]
    }
   ],
   "source": [
    "# Look for any irrelevant data in the dataframe. How will you handle it?\n",
    "num_rows = len(df.index)\n",
    "low_information_cols = [] #\n",
    "\n",
    "for col in df.columns:\n",
    "    cnts = df[col].value_counts(dropna=False)\n",
    "    top_pct = (cnts/num_rows).iloc[0]\n",
    "    \n",
    "    if top_pct > 0.95:\n",
    "        low_information_cols.append(col)\n",
    "        print('{0}: {1:.5f}%'.format(col, top_pct*100))\n",
    "        print(cnts)\n",
    "        print()"
   ]
  },
  {
   "cell_type": "code",
   "execution_count": 23,
   "id": "888b49f1",
   "metadata": {},
   "outputs": [
    {
     "ename": "KeyError",
     "evalue": "\"['id'] not found in axis\"",
     "output_type": "error",
     "traceback": [
      "\u001b[0;31m---------------------------------------------------------------------------\u001b[0m",
      "\u001b[0;31mKeyError\u001b[0m                                  Traceback (most recent call last)",
      "Input \u001b[0;32mIn [23]\u001b[0m, in \u001b[0;36m<cell line: 2>\u001b[0;34m()\u001b[0m\n\u001b[1;32m      1\u001b[0m \u001b[38;5;66;03m# Look for duplicates. How will you handle any duplicates?\u001b[39;00m\n\u001b[0;32m----> 2\u001b[0m df_dedupped \u001b[38;5;241m=\u001b[39m \u001b[43mdf\u001b[49m\u001b[38;5;241;43m.\u001b[39;49m\u001b[43mdrop\u001b[49m\u001b[43m(\u001b[49m\u001b[38;5;124;43m'\u001b[39;49m\u001b[38;5;124;43mid\u001b[39;49m\u001b[38;5;124;43m'\u001b[39;49m\u001b[43m,\u001b[49m\u001b[43m \u001b[49m\u001b[43maxis\u001b[49m\u001b[38;5;241;43m=\u001b[39;49m\u001b[38;5;241;43m1\u001b[39;49m\u001b[43m)\u001b[49m\u001b[38;5;241m.\u001b[39mdrop_duplicates()\n\u001b[1;32m      4\u001b[0m \u001b[38;5;66;03m# there were duplicate rows\u001b[39;00m\n\u001b[1;32m      5\u001b[0m \u001b[38;5;28mprint\u001b[39m(df\u001b[38;5;241m.\u001b[39mshape)\n",
      "File \u001b[0;32m~/opt/anaconda3/lib/python3.9/site-packages/pandas/util/_decorators.py:311\u001b[0m, in \u001b[0;36mdeprecate_nonkeyword_arguments.<locals>.decorate.<locals>.wrapper\u001b[0;34m(*args, **kwargs)\u001b[0m\n\u001b[1;32m    305\u001b[0m \u001b[38;5;28;01mif\u001b[39;00m \u001b[38;5;28mlen\u001b[39m(args) \u001b[38;5;241m>\u001b[39m num_allow_args:\n\u001b[1;32m    306\u001b[0m     warnings\u001b[38;5;241m.\u001b[39mwarn(\n\u001b[1;32m    307\u001b[0m         msg\u001b[38;5;241m.\u001b[39mformat(arguments\u001b[38;5;241m=\u001b[39marguments),\n\u001b[1;32m    308\u001b[0m         \u001b[38;5;167;01mFutureWarning\u001b[39;00m,\n\u001b[1;32m    309\u001b[0m         stacklevel\u001b[38;5;241m=\u001b[39mstacklevel,\n\u001b[1;32m    310\u001b[0m     )\n\u001b[0;32m--> 311\u001b[0m \u001b[38;5;28;01mreturn\u001b[39;00m \u001b[43mfunc\u001b[49m\u001b[43m(\u001b[49m\u001b[38;5;241;43m*\u001b[39;49m\u001b[43margs\u001b[49m\u001b[43m,\u001b[49m\u001b[43m \u001b[49m\u001b[38;5;241;43m*\u001b[39;49m\u001b[38;5;241;43m*\u001b[39;49m\u001b[43mkwargs\u001b[49m\u001b[43m)\u001b[49m\n",
      "File \u001b[0;32m~/opt/anaconda3/lib/python3.9/site-packages/pandas/core/frame.py:4954\u001b[0m, in \u001b[0;36mDataFrame.drop\u001b[0;34m(self, labels, axis, index, columns, level, inplace, errors)\u001b[0m\n\u001b[1;32m   4806\u001b[0m \u001b[38;5;129m@deprecate_nonkeyword_arguments\u001b[39m(version\u001b[38;5;241m=\u001b[39m\u001b[38;5;28;01mNone\u001b[39;00m, allowed_args\u001b[38;5;241m=\u001b[39m[\u001b[38;5;124m\"\u001b[39m\u001b[38;5;124mself\u001b[39m\u001b[38;5;124m\"\u001b[39m, \u001b[38;5;124m\"\u001b[39m\u001b[38;5;124mlabels\u001b[39m\u001b[38;5;124m\"\u001b[39m])\n\u001b[1;32m   4807\u001b[0m \u001b[38;5;28;01mdef\u001b[39;00m \u001b[38;5;21mdrop\u001b[39m(\n\u001b[1;32m   4808\u001b[0m     \u001b[38;5;28mself\u001b[39m,\n\u001b[0;32m   (...)\u001b[0m\n\u001b[1;32m   4815\u001b[0m     errors: \u001b[38;5;28mstr\u001b[39m \u001b[38;5;241m=\u001b[39m \u001b[38;5;124m\"\u001b[39m\u001b[38;5;124mraise\u001b[39m\u001b[38;5;124m\"\u001b[39m,\n\u001b[1;32m   4816\u001b[0m ):\n\u001b[1;32m   4817\u001b[0m     \u001b[38;5;124;03m\"\"\"\u001b[39;00m\n\u001b[1;32m   4818\u001b[0m \u001b[38;5;124;03m    Drop specified labels from rows or columns.\u001b[39;00m\n\u001b[1;32m   4819\u001b[0m \n\u001b[0;32m   (...)\u001b[0m\n\u001b[1;32m   4952\u001b[0m \u001b[38;5;124;03m            weight  1.0     0.8\u001b[39;00m\n\u001b[1;32m   4953\u001b[0m \u001b[38;5;124;03m    \"\"\"\u001b[39;00m\n\u001b[0;32m-> 4954\u001b[0m     \u001b[38;5;28;01mreturn\u001b[39;00m \u001b[38;5;28;43msuper\u001b[39;49m\u001b[43m(\u001b[49m\u001b[43m)\u001b[49m\u001b[38;5;241;43m.\u001b[39;49m\u001b[43mdrop\u001b[49m\u001b[43m(\u001b[49m\n\u001b[1;32m   4955\u001b[0m \u001b[43m        \u001b[49m\u001b[43mlabels\u001b[49m\u001b[38;5;241;43m=\u001b[39;49m\u001b[43mlabels\u001b[49m\u001b[43m,\u001b[49m\n\u001b[1;32m   4956\u001b[0m \u001b[43m        \u001b[49m\u001b[43maxis\u001b[49m\u001b[38;5;241;43m=\u001b[39;49m\u001b[43maxis\u001b[49m\u001b[43m,\u001b[49m\n\u001b[1;32m   4957\u001b[0m \u001b[43m        \u001b[49m\u001b[43mindex\u001b[49m\u001b[38;5;241;43m=\u001b[39;49m\u001b[43mindex\u001b[49m\u001b[43m,\u001b[49m\n\u001b[1;32m   4958\u001b[0m \u001b[43m        \u001b[49m\u001b[43mcolumns\u001b[49m\u001b[38;5;241;43m=\u001b[39;49m\u001b[43mcolumns\u001b[49m\u001b[43m,\u001b[49m\n\u001b[1;32m   4959\u001b[0m \u001b[43m        \u001b[49m\u001b[43mlevel\u001b[49m\u001b[38;5;241;43m=\u001b[39;49m\u001b[43mlevel\u001b[49m\u001b[43m,\u001b[49m\n\u001b[1;32m   4960\u001b[0m \u001b[43m        \u001b[49m\u001b[43minplace\u001b[49m\u001b[38;5;241;43m=\u001b[39;49m\u001b[43minplace\u001b[49m\u001b[43m,\u001b[49m\n\u001b[1;32m   4961\u001b[0m \u001b[43m        \u001b[49m\u001b[43merrors\u001b[49m\u001b[38;5;241;43m=\u001b[39;49m\u001b[43merrors\u001b[49m\u001b[43m,\u001b[49m\n\u001b[1;32m   4962\u001b[0m \u001b[43m    \u001b[49m\u001b[43m)\u001b[49m\n",
      "File \u001b[0;32m~/opt/anaconda3/lib/python3.9/site-packages/pandas/core/generic.py:4267\u001b[0m, in \u001b[0;36mNDFrame.drop\u001b[0;34m(self, labels, axis, index, columns, level, inplace, errors)\u001b[0m\n\u001b[1;32m   4265\u001b[0m \u001b[38;5;28;01mfor\u001b[39;00m axis, labels \u001b[38;5;129;01min\u001b[39;00m axes\u001b[38;5;241m.\u001b[39mitems():\n\u001b[1;32m   4266\u001b[0m     \u001b[38;5;28;01mif\u001b[39;00m labels \u001b[38;5;129;01mis\u001b[39;00m \u001b[38;5;129;01mnot\u001b[39;00m \u001b[38;5;28;01mNone\u001b[39;00m:\n\u001b[0;32m-> 4267\u001b[0m         obj \u001b[38;5;241m=\u001b[39m \u001b[43mobj\u001b[49m\u001b[38;5;241;43m.\u001b[39;49m\u001b[43m_drop_axis\u001b[49m\u001b[43m(\u001b[49m\u001b[43mlabels\u001b[49m\u001b[43m,\u001b[49m\u001b[43m \u001b[49m\u001b[43maxis\u001b[49m\u001b[43m,\u001b[49m\u001b[43m \u001b[49m\u001b[43mlevel\u001b[49m\u001b[38;5;241;43m=\u001b[39;49m\u001b[43mlevel\u001b[49m\u001b[43m,\u001b[49m\u001b[43m \u001b[49m\u001b[43merrors\u001b[49m\u001b[38;5;241;43m=\u001b[39;49m\u001b[43merrors\u001b[49m\u001b[43m)\u001b[49m\n\u001b[1;32m   4269\u001b[0m \u001b[38;5;28;01mif\u001b[39;00m inplace:\n\u001b[1;32m   4270\u001b[0m     \u001b[38;5;28mself\u001b[39m\u001b[38;5;241m.\u001b[39m_update_inplace(obj)\n",
      "File \u001b[0;32m~/opt/anaconda3/lib/python3.9/site-packages/pandas/core/generic.py:4311\u001b[0m, in \u001b[0;36mNDFrame._drop_axis\u001b[0;34m(self, labels, axis, level, errors, consolidate, only_slice)\u001b[0m\n\u001b[1;32m   4309\u001b[0m         new_axis \u001b[38;5;241m=\u001b[39m axis\u001b[38;5;241m.\u001b[39mdrop(labels, level\u001b[38;5;241m=\u001b[39mlevel, errors\u001b[38;5;241m=\u001b[39merrors)\n\u001b[1;32m   4310\u001b[0m     \u001b[38;5;28;01melse\u001b[39;00m:\n\u001b[0;32m-> 4311\u001b[0m         new_axis \u001b[38;5;241m=\u001b[39m \u001b[43maxis\u001b[49m\u001b[38;5;241;43m.\u001b[39;49m\u001b[43mdrop\u001b[49m\u001b[43m(\u001b[49m\u001b[43mlabels\u001b[49m\u001b[43m,\u001b[49m\u001b[43m \u001b[49m\u001b[43merrors\u001b[49m\u001b[38;5;241;43m=\u001b[39;49m\u001b[43merrors\u001b[49m\u001b[43m)\u001b[49m\n\u001b[1;32m   4312\u001b[0m     indexer \u001b[38;5;241m=\u001b[39m axis\u001b[38;5;241m.\u001b[39mget_indexer(new_axis)\n\u001b[1;32m   4314\u001b[0m \u001b[38;5;66;03m# Case for non-unique axis\u001b[39;00m\n\u001b[1;32m   4315\u001b[0m \u001b[38;5;28;01melse\u001b[39;00m:\n",
      "File \u001b[0;32m~/opt/anaconda3/lib/python3.9/site-packages/pandas/core/indexes/base.py:6644\u001b[0m, in \u001b[0;36mIndex.drop\u001b[0;34m(self, labels, errors)\u001b[0m\n\u001b[1;32m   6642\u001b[0m \u001b[38;5;28;01mif\u001b[39;00m mask\u001b[38;5;241m.\u001b[39many():\n\u001b[1;32m   6643\u001b[0m     \u001b[38;5;28;01mif\u001b[39;00m errors \u001b[38;5;241m!=\u001b[39m \u001b[38;5;124m\"\u001b[39m\u001b[38;5;124mignore\u001b[39m\u001b[38;5;124m\"\u001b[39m:\n\u001b[0;32m-> 6644\u001b[0m         \u001b[38;5;28;01mraise\u001b[39;00m \u001b[38;5;167;01mKeyError\u001b[39;00m(\u001b[38;5;124mf\u001b[39m\u001b[38;5;124m\"\u001b[39m\u001b[38;5;132;01m{\u001b[39;00m\u001b[38;5;28mlist\u001b[39m(labels[mask])\u001b[38;5;132;01m}\u001b[39;00m\u001b[38;5;124m not found in axis\u001b[39m\u001b[38;5;124m\"\u001b[39m)\n\u001b[1;32m   6645\u001b[0m     indexer \u001b[38;5;241m=\u001b[39m indexer[\u001b[38;5;241m~\u001b[39mmask]\n\u001b[1;32m   6646\u001b[0m \u001b[38;5;28;01mreturn\u001b[39;00m \u001b[38;5;28mself\u001b[39m\u001b[38;5;241m.\u001b[39mdelete(indexer)\n",
      "\u001b[0;31mKeyError\u001b[0m: \"['id'] not found in axis\""
     ]
    }
   ],
   "source": [
    "# Look for duplicates. How will you handle any duplicates?\n",
    "df_dedupped = df.drop('id', axis=1).drop_duplicates()\n",
    "\n",
    "# there were duplicate rows\n",
    "print(df.shape)\n",
    "print(df_dedupped.shape)"
   ]
  },
  {
   "cell_type": "code",
   "execution_count": null,
   "id": "d9766120",
   "metadata": {},
   "outputs": [],
   "source": [
    "key = ['timestamp', 'full_sq', 'life_sq', 'floor', 'build_year', 'num_room', 'price_doc']\n",
    "\n",
    "df.fillna(-999).groupby(key)['id'].count().sort_values(ascending=False).head(20)"
   ]
  },
  {
   "cell_type": "code",
   "execution_count": null,
   "id": "cbd6ee14",
   "metadata": {},
   "outputs": [],
   "source": [
    "# Think about what data in the dataframe may be uninformative. Make note here of what situations may render data uninformative and how you would handle it?\n",
    "key = ['timestamp', 'full_sq', 'life_sq', 'floor', 'build_year', 'num_room', 'price_doc']\n",
    "df_dedupped2 = df.drop_duplicates(subset=key)\n",
    "\n",
    "print(df.shape)\n",
    "print(df_dedupped2.shape)"
   ]
  },
  {
   "cell_type": "markdown",
   "id": "bdcad93a",
   "metadata": {},
   "source": [
    "## Inconsistent Data\n",
    "\n",
    "Inconsistent data is anything that messes with your model. This is likely due to inconsistent formatting and can be addressed by re-formatting all values in a column or row."
   ]
  },
  {
   "cell_type": "code",
   "execution_count": null,
   "id": "4fc6bbb7",
   "metadata": {},
   "outputs": [],
   "source": [
    "# Try to convert all the strings in a column to lower or upper case. \n",
    "df['sub_area_lower'] = df['sub_area'].str.lower()\n",
    "df['sub_area_lower'].value_counts(dropna=False)"
   ]
  },
  {
   "cell_type": "code",
   "execution_count": null,
   "id": "886f27bc",
   "metadata": {},
   "outputs": [],
   "source": []
  }
 ],
 "metadata": {
  "kernelspec": {
   "display_name": "Python 3 (ipykernel)",
   "language": "python",
   "name": "python3"
  },
  "language_info": {
   "codemirror_mode": {
    "name": "ipython",
    "version": 3
   },
   "file_extension": ".py",
   "mimetype": "text/x-python",
   "name": "python",
   "nbconvert_exporter": "python",
   "pygments_lexer": "ipython3",
   "version": "3.9.12"
  }
 },
 "nbformat": 4,
 "nbformat_minor": 5
}
